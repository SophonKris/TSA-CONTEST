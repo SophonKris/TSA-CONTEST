{
 "cells": [
  {
   "cell_type": "markdown",
   "metadata": {},
   "source": [
    "思路：\n",
    "\n",
    "拼接所有能合并的特征，链接statead，利用贝叶斯处理user缺省值\n",
    "\n",
    "其他的能拆就拆，然后全部one-hot\n",
    "\n",
    "对于AppID，先把一个用户的AppID连接在一起，然后使用tf-idf处理，得到App特征\n",
    "\n",
    "上下两个合起来，裸跑LogisticRegression，生成submission，跑全量数据（17-28）在线上30%评分在0.10305左右。\n",
    "\n",
    "没有代码重构"
   ]
  },
  {
   "cell_type": "code",
   "execution_count": 1,
   "metadata": {
    "collapsed": true
   },
   "outputs": [],
   "source": [
    "import pandas as pd\n",
    "from sklearn.preprocessing import OneHotEncoder\n",
    "from sklearn.model_selection import train_test_split\n",
    "from sklearn.feature_extraction.text import TfidfVectorizer\n",
    "from scipy.sparse import hstack\n",
    "import numpy as np\n",
    "import pickle\n",
    "import math"
   ]
  },
  {
   "cell_type": "code",
   "execution_count": 2,
   "metadata": {
    "collapsed": true
   },
   "outputs": [],
   "source": [
    "#评分函数\n",
    "import scipy as sp\n",
    "def logloss(act, pred):\n",
    "  epsilon = 1e-15\n",
    "  pred = sp.maximum(epsilon, pred)\n",
    "  pred = sp.minimum(1-epsilon, pred)\n",
    "  ll = -sp.mean(act*sp.log(pred) + sp.subtract(1,act)*sp.log(1-pred))\n",
    "  return ll"
   ]
  },
  {
   "cell_type": "code",
   "execution_count": 4,
   "metadata": {
    "collapsed": false
   },
   "outputs": [
    {
     "data": {
      "text/html": [
       "<div>\n",
       "<table border=\"1\" class=\"dataframe\">\n",
       "  <thead>\n",
       "    <tr style=\"text-align: right;\">\n",
       "      <th></th>\n",
       "      <th>label</th>\n",
       "      <th>clickTime</th>\n",
       "      <th>conversionTime</th>\n",
       "      <th>creativeID</th>\n",
       "      <th>userID</th>\n",
       "      <th>positionID</th>\n",
       "      <th>connectionType</th>\n",
       "      <th>telecomsOperator</th>\n",
       "    </tr>\n",
       "  </thead>\n",
       "  <tbody>\n",
       "    <tr>\n",
       "      <th>0</th>\n",
       "      <td>0</td>\n",
       "      <td>170000</td>\n",
       "      <td>NaN</td>\n",
       "      <td>3089</td>\n",
       "      <td>2798058</td>\n",
       "      <td>293</td>\n",
       "      <td>1</td>\n",
       "      <td>1</td>\n",
       "    </tr>\n",
       "    <tr>\n",
       "      <th>1</th>\n",
       "      <td>0</td>\n",
       "      <td>170000</td>\n",
       "      <td>NaN</td>\n",
       "      <td>1259</td>\n",
       "      <td>463234</td>\n",
       "      <td>6161</td>\n",
       "      <td>1</td>\n",
       "      <td>2</td>\n",
       "    </tr>\n",
       "    <tr>\n",
       "      <th>2</th>\n",
       "      <td>0</td>\n",
       "      <td>170000</td>\n",
       "      <td>NaN</td>\n",
       "      <td>4465</td>\n",
       "      <td>1857485</td>\n",
       "      <td>7434</td>\n",
       "      <td>4</td>\n",
       "      <td>1</td>\n",
       "    </tr>\n",
       "    <tr>\n",
       "      <th>3</th>\n",
       "      <td>0</td>\n",
       "      <td>170000</td>\n",
       "      <td>NaN</td>\n",
       "      <td>1004</td>\n",
       "      <td>2038823</td>\n",
       "      <td>977</td>\n",
       "      <td>1</td>\n",
       "      <td>1</td>\n",
       "    </tr>\n",
       "    <tr>\n",
       "      <th>4</th>\n",
       "      <td>0</td>\n",
       "      <td>170000</td>\n",
       "      <td>NaN</td>\n",
       "      <td>1887</td>\n",
       "      <td>2015141</td>\n",
       "      <td>3688</td>\n",
       "      <td>1</td>\n",
       "      <td>1</td>\n",
       "    </tr>\n",
       "  </tbody>\n",
       "</table>\n",
       "</div>"
      ],
      "text/plain": [
       "   label  clickTime  conversionTime  creativeID   userID  positionID  \\\n",
       "0      0     170000             NaN        3089  2798058         293   \n",
       "1      0     170000             NaN        1259   463234        6161   \n",
       "2      0     170000             NaN        4465  1857485        7434   \n",
       "3      0     170000             NaN        1004  2038823         977   \n",
       "4      0     170000             NaN        1887  2015141        3688   \n",
       "\n",
       "   connectionType  telecomsOperator  \n",
       "0               1                 1  \n",
       "1               1                 2  \n",
       "2               4                 1  \n",
       "3               1                 1  \n",
       "4               1                 1  "
      ]
     },
     "execution_count": 4,
     "metadata": {},
     "output_type": "execute_result"
    }
   ],
   "source": [
    "train = pd.read_csv('./pre/train.csv')\n",
    "test = pd.read_csv('./pre/test.csv')\n",
    "\n",
    "train.head()"
   ]
  },
  {
   "cell_type": "code",
   "execution_count": 25,
   "metadata": {
    "collapsed": false
   },
   "outputs": [
    {
     "data": {
      "text/html": [
       "<div>\n",
       "<table border=\"1\" class=\"dataframe\">\n",
       "  <thead>\n",
       "    <tr style=\"text-align: right;\">\n",
       "      <th></th>\n",
       "      <th>creativeID</th>\n",
       "      <th>brand</th>\n",
       "      <th>successclick</th>\n",
       "      <th>successconversion</th>\n",
       "    </tr>\n",
       "  </thead>\n",
       "  <tbody>\n",
       "    <tr>\n",
       "      <th>0</th>\n",
       "      <td>4079</td>\n",
       "      <td>191</td>\n",
       "      <td>2890.0</td>\n",
       "      <td>10</td>\n",
       "    </tr>\n",
       "    <tr>\n",
       "      <th>1</th>\n",
       "      <td>4565</td>\n",
       "      <td>56</td>\n",
       "      <td>449000.0</td>\n",
       "      <td>11622</td>\n",
       "    </tr>\n",
       "    <tr>\n",
       "      <th>2</th>\n",
       "      <td>3170</td>\n",
       "      <td>1400</td>\n",
       "      <td>387.0</td>\n",
       "      <td>5</td>\n",
       "    </tr>\n",
       "    <tr>\n",
       "      <th>3</th>\n",
       "      <td>6566</td>\n",
       "      <td>1400</td>\n",
       "      <td>224.0</td>\n",
       "      <td>1</td>\n",
       "    </tr>\n",
       "    <tr>\n",
       "      <th>4</th>\n",
       "      <td>5187</td>\n",
       "      <td>56</td>\n",
       "      <td>141000.0</td>\n",
       "      <td>2277</td>\n",
       "    </tr>\n",
       "  </tbody>\n",
       "</table>\n",
       "</div>"
      ],
      "text/plain": [
       "   creativeID  brand  successclick\\n  successconversion\n",
       "0        4079    191          2890.0                 10\n",
       "1        4565     56        449000.0              11622\n",
       "2        3170   1400           387.0                  5\n",
       "3        6566   1400           224.0                  1\n",
       "4        5187     56        141000.0               2277"
      ]
     },
     "execution_count": 25,
     "metadata": {},
     "output_type": "execute_result"
    }
   ],
   "source": [
    "# statead = pd.read_csv('./statead.csv')\n",
    "# statead.head()"
   ]
  },
  {
   "cell_type": "code",
   "execution_count": 27,
   "metadata": {
    "collapsed": false
   },
   "outputs": [
    {
     "data": {
      "text/html": [
       "<div>\n",
       "<table border=\"1\" class=\"dataframe\">\n",
       "  <thead>\n",
       "    <tr style=\"text-align: right;\">\n",
       "      <th></th>\n",
       "      <th>instanceID</th>\n",
       "      <th>label</th>\n",
       "      <th>clickTime</th>\n",
       "      <th>creativeID</th>\n",
       "      <th>userID</th>\n",
       "      <th>positionID</th>\n",
       "      <th>connectionType</th>\n",
       "      <th>telecomsOperator</th>\n",
       "      <th>clickTime_day</th>\n",
       "      <th>clickTime_hour</th>\n",
       "      <th>clickTime_minute</th>\n",
       "      <th>sitesetID_x</th>\n",
       "      <th>positionType_x</th>\n",
       "      <th>sitesetID_y</th>\n",
       "      <th>positionType_y</th>\n",
       "      <th>brand</th>\n",
       "      <th>successclick</th>\n",
       "      <th>successconversion</th>\n",
       "    </tr>\n",
       "  </thead>\n",
       "  <tbody>\n",
       "    <tr>\n",
       "      <th>0</th>\n",
       "      <td>1</td>\n",
       "      <td>-1</td>\n",
       "      <td>310000</td>\n",
       "      <td>3745</td>\n",
       "      <td>1164848</td>\n",
       "      <td>3451</td>\n",
       "      <td>1</td>\n",
       "      <td>3</td>\n",
       "      <td>31</td>\n",
       "      <td>0</td>\n",
       "      <td>0</td>\n",
       "      <td>0</td>\n",
       "      <td>1</td>\n",
       "      <td>0</td>\n",
       "      <td>1</td>\n",
       "      <td>191</td>\n",
       "      <td>11946.0</td>\n",
       "      <td>18</td>\n",
       "    </tr>\n",
       "    <tr>\n",
       "      <th>1</th>\n",
       "      <td>2</td>\n",
       "      <td>-1</td>\n",
       "      <td>310000</td>\n",
       "      <td>2284</td>\n",
       "      <td>2127247</td>\n",
       "      <td>1613</td>\n",
       "      <td>1</td>\n",
       "      <td>3</td>\n",
       "      <td>31</td>\n",
       "      <td>0</td>\n",
       "      <td>0</td>\n",
       "      <td>0</td>\n",
       "      <td>1</td>\n",
       "      <td>0</td>\n",
       "      <td>1</td>\n",
       "      <td>191</td>\n",
       "      <td>3745.0</td>\n",
       "      <td>11</td>\n",
       "    </tr>\n",
       "    <tr>\n",
       "      <th>2</th>\n",
       "      <td>3</td>\n",
       "      <td>-1</td>\n",
       "      <td>310000</td>\n",
       "      <td>1456</td>\n",
       "      <td>2769125</td>\n",
       "      <td>5510</td>\n",
       "      <td>2</td>\n",
       "      <td>1</td>\n",
       "      <td>31</td>\n",
       "      <td>0</td>\n",
       "      <td>0</td>\n",
       "      <td>0</td>\n",
       "      <td>1</td>\n",
       "      <td>0</td>\n",
       "      <td>1</td>\n",
       "      <td>56</td>\n",
       "      <td>136000.0</td>\n",
       "      <td>3452</td>\n",
       "    </tr>\n",
       "    <tr>\n",
       "      <th>3</th>\n",
       "      <td>4</td>\n",
       "      <td>-1</td>\n",
       "      <td>310000</td>\n",
       "      <td>4565</td>\n",
       "      <td>9762</td>\n",
       "      <td>4113</td>\n",
       "      <td>2</td>\n",
       "      <td>3</td>\n",
       "      <td>31</td>\n",
       "      <td>0</td>\n",
       "      <td>0</td>\n",
       "      <td>0</td>\n",
       "      <td>1</td>\n",
       "      <td>0</td>\n",
       "      <td>1</td>\n",
       "      <td>56</td>\n",
       "      <td>449000.0</td>\n",
       "      <td>11622</td>\n",
       "    </tr>\n",
       "    <tr>\n",
       "      <th>4</th>\n",
       "      <td>5</td>\n",
       "      <td>-1</td>\n",
       "      <td>310000</td>\n",
       "      <td>49</td>\n",
       "      <td>2513636</td>\n",
       "      <td>3615</td>\n",
       "      <td>1</td>\n",
       "      <td>3</td>\n",
       "      <td>31</td>\n",
       "      <td>0</td>\n",
       "      <td>0</td>\n",
       "      <td>0</td>\n",
       "      <td>1</td>\n",
       "      <td>0</td>\n",
       "      <td>1</td>\n",
       "      <td>191</td>\n",
       "      <td>51.0</td>\n",
       "      <td>0</td>\n",
       "    </tr>\n",
       "  </tbody>\n",
       "</table>\n",
       "</div>"
      ],
      "text/plain": [
       "   instanceID  label  clickTime  creativeID   userID  positionID  \\\n",
       "0           1     -1     310000        3745  1164848        3451   \n",
       "1           2     -1     310000        2284  2127247        1613   \n",
       "2           3     -1     310000        1456  2769125        5510   \n",
       "3           4     -1     310000        4565     9762        4113   \n",
       "4           5     -1     310000          49  2513636        3615   \n",
       "\n",
       "   connectionType  telecomsOperator  clickTime_day  clickTime_hour  \\\n",
       "0               1                 3             31               0   \n",
       "1               1                 3             31               0   \n",
       "2               2                 1             31               0   \n",
       "3               2                 3             31               0   \n",
       "4               1                 3             31               0   \n",
       "\n",
       "   clickTime_minute  sitesetID_x  positionType_x  sitesetID_y  positionType_y  \\\n",
       "0                 0            0               1            0               1   \n",
       "1                 0            0               1            0               1   \n",
       "2                 0            0               1            0               1   \n",
       "3                 0            0               1            0               1   \n",
       "4                 0            0               1            0               1   \n",
       "\n",
       "   brand  successclick\\n  successconversion  \n",
       "0    191         11946.0                 18  \n",
       "1    191          3745.0                 11  \n",
       "2     56        136000.0               3452  \n",
       "3     56        449000.0              11622  \n",
       "4    191            51.0                  0  "
      ]
     },
     "execution_count": 27,
     "metadata": {},
     "output_type": "execute_result"
    }
   ],
   "source": [
    "test.head()"
   ]
  },
  {
   "cell_type": "code",
   "execution_count": 5,
   "metadata": {
    "collapsed": false
   },
   "outputs": [],
   "source": [
    "#时间离散化\n",
    "train['clickTime_day'] = train['clickTime'].map(lambda x:int(x/10000))\n",
    "train['clickTime_hour'] = train['clickTime'].map(lambda x:int(x/100%100))\n",
    "train['clickTime_minute'] = train['clickTime'].map(lambda x:int(x%100))"
   ]
  },
  {
   "cell_type": "code",
   "execution_count": 6,
   "metadata": {
    "collapsed": false
   },
   "outputs": [
    {
     "data": {
      "text/plain": [
       "clickTime_day  label\n",
       "17             0        287089\n",
       "               1          7464\n",
       "18             0        155890\n",
       "               1          4101\n",
       "19             0        100872\n",
       "               1          3286\n",
       "20             0        201406\n",
       "               1          5056\n",
       "21             0        301475\n",
       "               1          7121\n",
       "22             0        318550\n",
       "               1          7371\n",
       "23             0        280826\n",
       "               1          7607\n",
       "24             0        277860\n",
       "               1          7382\n",
       "25             0        259457\n",
       "               1          7376\n",
       "26             0        290089\n",
       "               1          7736\n",
       "27             0        289065\n",
       "               1          7649\n",
       "28             0        271291\n",
       "               1          7343\n",
       "29             0        294307\n",
       "               1          7462\n",
       "30             0        328089\n",
       "               1          6308\n",
       "Name: label, dtype: int64"
      ]
     },
     "execution_count": 6,
     "metadata": {},
     "output_type": "execute_result"
    }
   ],
   "source": [
    "train.groupby(['clickTime_day'])['label'].value_counts()"
   ]
  },
  {
   "cell_type": "code",
   "execution_count": 108,
   "metadata": {
    "collapsed": false
   },
   "outputs": [],
   "source": [
    "# 将第28天作为验证集  （集第一次更新）\n",
    "# proof = train[train.clickTime_day==28]\n",
    "train = train[(train.clickTime_day>=17 ) & (train.clickTime_day<= 28)]"
   ]
  },
  {
   "cell_type": "code",
   "execution_count": 7,
   "metadata": {
    "collapsed": false
   },
   "outputs": [
    {
     "name": "stdout",
     "output_type": "stream",
     "text": [
      "(338489, 8) (3749528, 11)\n"
     ]
    }
   ],
   "source": [
    "print test.shape,train.shape"
   ]
  },
  {
   "cell_type": "code",
   "execution_count": 8,
   "metadata": {
    "collapsed": false
   },
   "outputs": [],
   "source": [
    "#时间离散化\n",
    "test['clickTime_day'] = test['clickTime'].map(lambda x:int(x/10000))\n",
    "test['clickTime_hour'] = test['clickTime'].map(lambda x:int(x/100%100))\n",
    "test['clickTime_minute'] = test['clickTime'].map(lambda x:int(x%100))"
   ]
  },
  {
   "cell_type": "code",
   "execution_count": 9,
   "metadata": {
    "collapsed": false
   },
   "outputs": [
    {
     "data": {
      "text/plain": [
       "clickTime_hour  label\n",
       "0               -1        7545\n",
       "1               -1        4785\n",
       "2               -1        3159\n",
       "3               -1        2478\n",
       "4               -1        2643\n",
       "5               -1        3329\n",
       "6               -1        6014\n",
       "7               -1       10554\n",
       "8               -1       13330\n",
       "9               -1       15433\n",
       "10              -1       17187\n",
       "11              -1       16355\n",
       "12              -1       17028\n",
       "13              -1       17776\n",
       "14              -1       19110\n",
       "15              -1       19717\n",
       "16              -1       18122\n",
       "17              -1       18839\n",
       "18              -1       20482\n",
       "19              -1       23049\n",
       "20              -1       22770\n",
       "21              -1       24124\n",
       "22              -1       20210\n",
       "23              -1       14450\n",
       "Name: label, dtype: int64"
      ]
     },
     "execution_count": 9,
     "metadata": {},
     "output_type": "execute_result"
    }
   ],
   "source": [
    "test.groupby(['clickTime_hour'])['label'].value_counts()"
   ]
  },
  {
   "cell_type": "code",
   "execution_count": 3,
   "metadata": {
    "collapsed": false
   },
   "outputs": [
    {
     "data": {
      "text/html": [
       "<div>\n",
       "<table border=\"1\" class=\"dataframe\">\n",
       "  <thead>\n",
       "    <tr style=\"text-align: right;\">\n",
       "      <th></th>\n",
       "      <th>positionID</th>\n",
       "      <th>sitesetID</th>\n",
       "      <th>positionType</th>\n",
       "    </tr>\n",
       "  </thead>\n",
       "  <tbody>\n",
       "    <tr>\n",
       "      <th>0</th>\n",
       "      <td>2150</td>\n",
       "      <td>1</td>\n",
       "      <td>0</td>\n",
       "    </tr>\n",
       "    <tr>\n",
       "      <th>1</th>\n",
       "      <td>2579</td>\n",
       "      <td>1</td>\n",
       "      <td>0</td>\n",
       "    </tr>\n",
       "    <tr>\n",
       "      <th>2</th>\n",
       "      <td>3322</td>\n",
       "      <td>1</td>\n",
       "      <td>0</td>\n",
       "    </tr>\n",
       "    <tr>\n",
       "      <th>3</th>\n",
       "      <td>5726</td>\n",
       "      <td>1</td>\n",
       "      <td>0</td>\n",
       "    </tr>\n",
       "    <tr>\n",
       "      <th>4</th>\n",
       "      <td>4522</td>\n",
       "      <td>2</td>\n",
       "      <td>0</td>\n",
       "    </tr>\n",
       "  </tbody>\n",
       "</table>\n",
       "</div>"
      ],
      "text/plain": [
       "   positionID  sitesetID  positionType\n",
       "0        2150          1             0\n",
       "1        2579          1             0\n",
       "2        3322          1             0\n",
       "3        5726          1             0\n",
       "4        4522          2             0"
      ]
     },
     "execution_count": 3,
     "metadata": {},
     "output_type": "execute_result"
    }
   ],
   "source": [
    "#position直接加上去，LogisticRegression Logistic回归\n",
    "#的训练得分 0.120106201117，可见position特征用处不大\n",
    "position = pd.read_csv('./pre/position.csv')\n",
    "# train = pd.merge(train,statead,position,on='positionID',how='left')\n",
    "# test = pd.merge(test,statead,position,on='positionID',how='left')\n",
    "position.head()"
   ]
  },
  {
   "cell_type": "code",
   "execution_count": 26,
   "metadata": {
    "collapsed": false
   },
   "outputs": [],
   "source": [
    "# train = pd.merge(train,statead,on='creativeID',how='left')\n",
    "# test = pd.merge(test,statead,on='creativeID',how='left')"
   ]
  },
  {
   "cell_type": "code",
   "execution_count": 23,
   "metadata": {
    "collapsed": false
   },
   "outputs": [
    {
     "data": {
      "text/html": [
       "<div>\n",
       "<table border=\"1\" class=\"dataframe\">\n",
       "  <thead>\n",
       "    <tr style=\"text-align: right;\">\n",
       "      <th></th>\n",
       "      <th>creativenessID</th>\n",
       "      <th>brand</th>\n",
       "      <th>successclick</th>\n",
       "      <th>successconversion</th>\n",
       "    </tr>\n",
       "  </thead>\n",
       "  <tbody>\n",
       "    <tr>\n",
       "      <th>0</th>\n",
       "      <td>4079</td>\n",
       "      <td>191</td>\n",
       "      <td>2890.0</td>\n",
       "      <td>10</td>\n",
       "    </tr>\n",
       "    <tr>\n",
       "      <th>1</th>\n",
       "      <td>4565</td>\n",
       "      <td>56</td>\n",
       "      <td>449000.0</td>\n",
       "      <td>11622</td>\n",
       "    </tr>\n",
       "    <tr>\n",
       "      <th>2</th>\n",
       "      <td>3170</td>\n",
       "      <td>1400</td>\n",
       "      <td>387.0</td>\n",
       "      <td>5</td>\n",
       "    </tr>\n",
       "    <tr>\n",
       "      <th>3</th>\n",
       "      <td>6566</td>\n",
       "      <td>1400</td>\n",
       "      <td>224.0</td>\n",
       "      <td>1</td>\n",
       "    </tr>\n",
       "    <tr>\n",
       "      <th>4</th>\n",
       "      <td>5187</td>\n",
       "      <td>56</td>\n",
       "      <td>141000.0</td>\n",
       "      <td>2277</td>\n",
       "    </tr>\n",
       "  </tbody>\n",
       "</table>\n",
       "</div>"
      ],
      "text/plain": [
       "   creativenessID  brand  successclick\\n  successconversion\n",
       "0            4079    191          2890.0                 10\n",
       "1            4565     56        449000.0              11622\n",
       "2            3170   1400           387.0                  5\n",
       "3            6566   1400           224.0                  1\n",
       "4            5187     56        141000.0               2277"
      ]
     },
     "execution_count": 23,
     "metadata": {},
     "output_type": "execute_result"
    }
   ],
   "source": [
    "# statead.head()"
   ]
  },
  {
   "cell_type": "code",
   "execution_count": 73,
   "metadata": {
    "collapsed": true
   },
   "outputs": [],
   "source": [
    "#numberical feature数字特征，feature_name总特征，categorical_feature 分类特征\n",
    "#我们去掉label，convertiontime跑一次\n",
    "feature_name = [a for a in train.columns if a not in ['label','conversionTime']]\n",
    "categorical_feature = ['creativeID','userID','positionID','connectionType','telecomsOperator']"
   ]
  },
  {
   "cell_type": "code",
   "execution_count": 74,
   "metadata": {
    "collapsed": false
   },
   "outputs": [],
   "source": [
    "#去掉除label，convertiontime的第二次数据集\n",
    "train_label = train['label']\n",
    "train = train[feature_name]\n",
    "test_label = test['label']\n",
    "test = test[feature_name]"
   ]
  },
  {
   "cell_type": "code",
   "execution_count": 75,
   "metadata": {
    "collapsed": false
   },
   "outputs": [],
   "source": [
    "#添加appID特征（tfidf）\n",
    "user_installedapps = pd.read_csv('./pre/user_installedapps.csv')\n",
    "user_installedapps_count = user_installedapps.groupby('userID').agg(len).reset_index()#计数特征\n"
   ]
  },
  {
   "cell_type": "code",
   "execution_count": 76,
   "metadata": {
    "collapsed": false
   },
   "outputs": [
    {
     "data": {
      "text/html": [
       "<div>\n",
       "<table border=\"1\" class=\"dataframe\">\n",
       "  <thead>\n",
       "    <tr style=\"text-align: right;\">\n",
       "      <th></th>\n",
       "      <th>userID</th>\n",
       "      <th>appID</th>\n",
       "    </tr>\n",
       "  </thead>\n",
       "  <tbody>\n",
       "    <tr>\n",
       "      <th>0</th>\n",
       "      <td>1</td>\n",
       "      <td>357</td>\n",
       "    </tr>\n",
       "    <tr>\n",
       "      <th>1</th>\n",
       "      <td>1</td>\n",
       "      <td>360</td>\n",
       "    </tr>\n",
       "    <tr>\n",
       "      <th>2</th>\n",
       "      <td>1</td>\n",
       "      <td>362</td>\n",
       "    </tr>\n",
       "    <tr>\n",
       "      <th>3</th>\n",
       "      <td>1</td>\n",
       "      <td>365</td>\n",
       "    </tr>\n",
       "    <tr>\n",
       "      <th>4</th>\n",
       "      <td>1</td>\n",
       "      <td>375</td>\n",
       "    </tr>\n",
       "  </tbody>\n",
       "</table>\n",
       "</div>"
      ],
      "text/plain": [
       "   userID  appID\n",
       "0       1    357\n",
       "1       1    360\n",
       "2       1    362\n",
       "3       1    365\n",
       "4       1    375"
      ]
     },
     "execution_count": 76,
     "metadata": {},
     "output_type": "execute_result"
    }
   ],
   "source": [
    "user_installedapps.head()"
   ]
  },
  {
   "cell_type": "code",
   "execution_count": 77,
   "metadata": {
    "collapsed": true
   },
   "outputs": [],
   "source": [
    "user_installedapps_count.columns = ['userID','user_appID_count']\n",
    "#2798058\tapp360 app361 app362 app375 app480 app481 app4  相当于app+value\n",
    "user_installedapps = user_installedapps.groupby('userID').agg(lambda x:' '.join(['app'+str(s) for s in x.values])).reset_index()\n",
    "\n"
   ]
  },
  {
   "cell_type": "code",
   "execution_count": 78,
   "metadata": {
    "collapsed": false
   },
   "outputs": [
    {
     "data": {
      "text/html": [
       "<div>\n",
       "<table border=\"1\" class=\"dataframe\">\n",
       "  <thead>\n",
       "    <tr style=\"text-align: right;\">\n",
       "      <th></th>\n",
       "      <th>userID</th>\n",
       "    </tr>\n",
       "  </thead>\n",
       "  <tbody>\n",
       "    <tr>\n",
       "      <th>0</th>\n",
       "      <td>2378636</td>\n",
       "    </tr>\n",
       "    <tr>\n",
       "      <th>1</th>\n",
       "      <td>1361396</td>\n",
       "    </tr>\n",
       "    <tr>\n",
       "      <th>2</th>\n",
       "      <td>1172949</td>\n",
       "    </tr>\n",
       "    <tr>\n",
       "      <th>3</th>\n",
       "      <td>1318946</td>\n",
       "    </tr>\n",
       "    <tr>\n",
       "      <th>4</th>\n",
       "      <td>1367085</td>\n",
       "    </tr>\n",
       "  </tbody>\n",
       "</table>\n",
       "</div>"
      ],
      "text/plain": [
       "    userID\n",
       "0  2378636\n",
       "1  1361396\n",
       "2  1172949\n",
       "3  1318946\n",
       "4  1367085"
      ]
     },
     "execution_count": 78,
     "metadata": {},
     "output_type": "execute_result"
    }
   ],
   "source": [
    "user_id_all = pd.concat([train.userID,test.userID],axis=0)\n",
    "user_id_all = pd.DataFrame(user_id_all,columns=['userID'])\n",
    "user_id_all.head()\n",
    "\n"
   ]
  },
  {
   "cell_type": "code",
   "execution_count": 79,
   "metadata": {
    "collapsed": true
   },
   "outputs": [],
   "source": [
    "#不同用户的先提取出来\n",
    "user_installedapps = pd.merge(user_id_all.drop_duplicates(),user_installedapps,on='userID',how='left')\n",
    "user_installedapps = user_installedapps.fillna('Missing')\n",
    "#至此，user_installedapps处理完毕"
   ]
  },
  {
   "cell_type": "code",
   "execution_count": 80,
   "metadata": {
    "collapsed": false,
    "scrolled": true
   },
   "outputs": [
    {
     "data": {
      "text/plain": [
       "TfidfVectorizer(analyzer=u'word', binary=False, decode_error=u'strict',\n",
       "        dtype=<type 'numpy.int64'>, encoding=u'utf-8', input=u'content',\n",
       "        lowercase=True, max_df=1.0, max_features=None, min_df=1,\n",
       "        ngram_range=(1, 1), norm=u'l2', preprocessor=None, smooth_idf=True,\n",
       "        stop_words=None, strip_accents=None, sublinear_tf=False,\n",
       "        token_pattern=u'(?u)\\\\b\\\\w\\\\w+\\\\b', tokenizer=None, use_idf=True,\n",
       "        vocabulary=None)"
      ]
     },
     "execution_count": 80,
     "metadata": {},
     "output_type": "execute_result"
    }
   ],
   "source": [
    "\n",
    "tfv = TfidfVectorizer()\n",
    "tfv.fit(user_installedapps.appID)\n",
    "\n"
   ]
  },
  {
   "cell_type": "code",
   "execution_count": 81,
   "metadata": {
    "collapsed": true
   },
   "outputs": [],
   "source": [
    "#按照顺序转化为tfidf特征\n",
    "user_installedapps = pd.merge(user_id_all,user_installedapps,on='userID',how='left')\n",
    "user_installedapps = user_installedapps.fillna('Missing')\n",
    "user_installedapps_tfv = tfv.transform(user_installedapps.appID)"
   ]
  },
  {
   "cell_type": "code",
   "execution_count": 22,
   "metadata": {
    "collapsed": true
   },
   "outputs": [],
   "source": [
    "#保险起见，爱你，就储存吧\n",
    "user_installedapps.to_csv('./pre/user-app.csv',index=None)"
   ]
  },
  {
   "cell_type": "code",
   "execution_count": 11,
   "metadata": {
    "collapsed": false,
    "scrolled": true
   },
   "outputs": [
    {
     "data": {
      "text/plain": [
       "0    0.247033\n",
       "1    0.227382\n",
       "3    0.183746\n",
       "2    0.177069\n",
       "4    0.087440\n",
       "5    0.062026\n",
       "6    0.010541\n",
       "7    0.004763\n",
       "Name: education, dtype: float64"
      ]
     },
     "execution_count": 11,
     "metadata": {},
     "output_type": "execute_result"
    }
   ],
   "source": [
    "def featureManipulation(dtfm, colList, func):\n",
    "    '''依次处理某一dataframe内__所有__col的__所有__零值'''\n",
    "    for col in colList:\n",
    "        pr_col = func(dtfm, col)\n",
    "        for row in pr_col.iterrows():\n",
    "            zeroSample = dtfm[col][(dtfm[col] == 0)]\n",
    "            replace = row[0]\n",
    "            num = row[1][col].astype(int)\n",
    "            if num > len(zeroSample):\n",
    "                print(replace)\n",
    "                num = len(zeroSample)\n",
    "            if num <= 0:\n",
    "                continue\n",
    "            smpl = zeroSample.sample(num)\n",
    "            smpl = smpl.replace(0, replace)\n",
    "            dtfm[col].update(smpl)\n",
    "    print(dtfm)"
   ]
  },
  {
   "cell_type": "code",
   "execution_count": 12,
   "metadata": {
    "collapsed": false
   },
   "outputs": [
    {
     "data": {
      "text/plain": [
       "0     0.104905\n",
       "15    0.053536\n",
       "16    0.042894\n",
       "17    0.041247\n",
       "19    0.041243\n",
       "13    0.040872\n",
       "20    0.040034\n",
       "18    0.039410\n",
       "14    0.038271\n",
       "25    0.035427\n",
       "21    0.034332\n",
       "26    0.033149\n",
       "22    0.032702\n",
       "12    0.031670\n",
       "23    0.031274\n",
       "27    0.030278\n",
       "28    0.028647\n",
       "24    0.028334\n",
       "11    0.028048\n",
       "29    0.024487\n",
       "30    0.019674\n",
       "31    0.016924\n",
       "33    0.015341\n",
       "32    0.014844\n",
       "10    0.013925\n",
       "34    0.012143\n",
       "35    0.011802\n",
       "36    0.010457\n",
       "37    0.009451\n",
       "38    0.007586\n",
       "        ...   \n",
       "6     0.001399\n",
       "5     0.001210\n",
       "54    0.000782\n",
       "55    0.000753\n",
       "4     0.000698\n",
       "56    0.000640\n",
       "57    0.000631\n",
       "58    0.000544\n",
       "59    0.000486\n",
       "60    0.000392\n",
       "61    0.000329\n",
       "62    0.000147\n",
       "63    0.000104\n",
       "66    0.000102\n",
       "65    0.000095\n",
       "64    0.000083\n",
       "67    0.000078\n",
       "80    0.000059\n",
       "68    0.000052\n",
       "69    0.000044\n",
       "70    0.000044\n",
       "71    0.000037\n",
       "78    0.000032\n",
       "73    0.000031\n",
       "74    0.000031\n",
       "76    0.000030\n",
       "75    0.000029\n",
       "72    0.000027\n",
       "77    0.000026\n",
       "79    0.000020\n",
       "Name: age, dtype: float64"
      ]
     },
     "execution_count": 12,
     "metadata": {},
     "output_type": "execute_result"
    }
   ],
   "source": [
    "# 这里是对user的例子\n",
    "user = pd.read_csv('./pre/user.csv')\n",
    "user.head()\n",
    "def sln(dtfm, col):\n",
    "    dtfm_col = dtfm[dtfm[col] > 0]\n",
    "    pr_col = dtfm_col[col].value_counts()/len(dtfm_col[col])\n",
    "    pr_col *= len(dtfm[col][(dtfm[col] == 0)])\n",
    "    pr_col = pr_col.apply(np.round)\n",
    "    pr_col = pr_col.to_frame()\n",
    "    return pr_col\n",
    "featureManipulation(user, ['age','gender','education','hometown','residence'], sln)"
   ]
  },
  {
   "cell_type": "code",
   "execution_count": 13,
   "metadata": {
    "collapsed": false
   },
   "outputs": [
    {
     "data": {
      "text/plain": [
       "False"
      ]
     },
     "execution_count": 13,
     "metadata": {},
     "output_type": "execute_result"
    }
   ],
   "source": [
    "user.isnull().values.any()"
   ]
  },
  {
   "cell_type": "code",
   "execution_count": null,
   "metadata": {
    "collapsed": true
   },
   "outputs": [],
   "source": [
    "user['hometown_city'] = user['hometown']%100\n",
    "user['hometown_province'] = (user['hometown']/100).astype('int')\n",
    "user['residence_city'] = user['residence']%100\n",
    "user['residence_province'] = (user['residence']/100).astype('int')"
   ]
  },
  {
   "cell_type": "code",
   "execution_count": 4,
   "metadata": {
    "collapsed": false
   },
   "outputs": [
    {
     "data": {
      "text/html": [
       "<div>\n",
       "<table border=\"1\" class=\"dataframe\">\n",
       "  <thead>\n",
       "    <tr style=\"text-align: right;\">\n",
       "      <th></th>\n",
       "      <th>creativeID</th>\n",
       "      <th>adID</th>\n",
       "      <th>camgaignID</th>\n",
       "      <th>advertiserID</th>\n",
       "      <th>appID</th>\n",
       "      <th>appPlatform</th>\n",
       "    </tr>\n",
       "  </thead>\n",
       "  <tbody>\n",
       "    <tr>\n",
       "      <th>0</th>\n",
       "      <td>4079</td>\n",
       "      <td>2318</td>\n",
       "      <td>147</td>\n",
       "      <td>80</td>\n",
       "      <td>14</td>\n",
       "      <td>2</td>\n",
       "    </tr>\n",
       "    <tr>\n",
       "      <th>1</th>\n",
       "      <td>4565</td>\n",
       "      <td>3593</td>\n",
       "      <td>632</td>\n",
       "      <td>3</td>\n",
       "      <td>465</td>\n",
       "      <td>1</td>\n",
       "    </tr>\n",
       "    <tr>\n",
       "      <th>2</th>\n",
       "      <td>3170</td>\n",
       "      <td>1593</td>\n",
       "      <td>205</td>\n",
       "      <td>54</td>\n",
       "      <td>389</td>\n",
       "      <td>1</td>\n",
       "    </tr>\n",
       "    <tr>\n",
       "      <th>3</th>\n",
       "      <td>6566</td>\n",
       "      <td>2390</td>\n",
       "      <td>205</td>\n",
       "      <td>54</td>\n",
       "      <td>389</td>\n",
       "      <td>1</td>\n",
       "    </tr>\n",
       "    <tr>\n",
       "      <th>4</th>\n",
       "      <td>5187</td>\n",
       "      <td>411</td>\n",
       "      <td>564</td>\n",
       "      <td>3</td>\n",
       "      <td>465</td>\n",
       "      <td>1</td>\n",
       "    </tr>\n",
       "  </tbody>\n",
       "</table>\n",
       "</div>"
      ],
      "text/plain": [
       "   creativeID  adID  camgaignID  advertiserID  appID  appPlatform\n",
       "0        4079  2318         147            80     14            2\n",
       "1        4565  3593         632             3    465            1\n",
       "2        3170  1593         205            54    389            1\n",
       "3        6566  2390         205            54    389            1\n",
       "4        5187   411         564             3    465            1"
      ]
     },
     "execution_count": 4,
     "metadata": {},
     "output_type": "execute_result"
    }
   ],
   "source": [
    "ad = pd.read_csv('./pre/ad.csv')\n",
    "ad.head()"
   ]
  },
  {
   "cell_type": "code",
   "execution_count": 84,
   "metadata": {
    "collapsed": false
   },
   "outputs": [],
   "source": [
    "#合并特征\n",
    "train = pd.merge(train,user_installedapps_count,on='userID',how='left')\n",
    "train = pd.merge(train,user,on='userID',how='left')\n",
    "train = pd.merge(train,ad,on='creativeID',how='left')\n",
    "\n"
   ]
  },
  {
   "cell_type": "code",
   "execution_count": 85,
   "metadata": {
    "collapsed": false
   },
   "outputs": [],
   "source": [
    "#验证集合并特征\n",
    "test = pd.merge(test,user_installedapps_count,on='userID',how='left')\n",
    "test = pd.merge(test,user,on='userID',how='left')\n",
    "test = pd.merge(test,ad,on='creativeID',how='left') "
   ]
  },
  {
   "cell_type": "code",
   "execution_count": 86,
   "metadata": {
    "collapsed": false
   },
   "outputs": [
    {
     "data": {
      "text/html": [
       "<div>\n",
       "<table border=\"1\" class=\"dataframe\">\n",
       "  <thead>\n",
       "    <tr style=\"text-align: right;\">\n",
       "      <th></th>\n",
       "      <th>clickTime</th>\n",
       "      <th>creativeID</th>\n",
       "      <th>userID</th>\n",
       "      <th>positionID</th>\n",
       "      <th>connectionType</th>\n",
       "      <th>telecomsOperator</th>\n",
       "      <th>clickTime_day</th>\n",
       "      <th>clickTime_hour</th>\n",
       "      <th>clickTime_minute</th>\n",
       "      <th>sitesetID</th>\n",
       "      <th>...</th>\n",
       "      <th>residence</th>\n",
       "      <th>hometown_city</th>\n",
       "      <th>hometown_province</th>\n",
       "      <th>residence_city</th>\n",
       "      <th>residence_province</th>\n",
       "      <th>adID</th>\n",
       "      <th>camgaignID</th>\n",
       "      <th>advertiserID</th>\n",
       "      <th>appID</th>\n",
       "      <th>appPlatform</th>\n",
       "    </tr>\n",
       "  </thead>\n",
       "  <tbody>\n",
       "    <tr>\n",
       "      <th>0</th>\n",
       "      <td>250000</td>\n",
       "      <td>5616</td>\n",
       "      <td>2378636</td>\n",
       "      <td>4292</td>\n",
       "      <td>1</td>\n",
       "      <td>1</td>\n",
       "      <td>25</td>\n",
       "      <td>0</td>\n",
       "      <td>0</td>\n",
       "      <td>0</td>\n",
       "      <td>...</td>\n",
       "      <td>801</td>\n",
       "      <td>10</td>\n",
       "      <td>2</td>\n",
       "      <td>1</td>\n",
       "      <td>8</td>\n",
       "      <td>333</td>\n",
       "      <td>139</td>\n",
       "      <td>10</td>\n",
       "      <td>434</td>\n",
       "      <td>1</td>\n",
       "    </tr>\n",
       "    <tr>\n",
       "      <th>1</th>\n",
       "      <td>250000</td>\n",
       "      <td>3395</td>\n",
       "      <td>1361396</td>\n",
       "      <td>7219</td>\n",
       "      <td>1</td>\n",
       "      <td>1</td>\n",
       "      <td>25</td>\n",
       "      <td>0</td>\n",
       "      <td>0</td>\n",
       "      <td>0</td>\n",
       "      <td>...</td>\n",
       "      <td>1301</td>\n",
       "      <td>1</td>\n",
       "      <td>13</td>\n",
       "      <td>1</td>\n",
       "      <td>13</td>\n",
       "      <td>2514</td>\n",
       "      <td>139</td>\n",
       "      <td>10</td>\n",
       "      <td>434</td>\n",
       "      <td>1</td>\n",
       "    </tr>\n",
       "    <tr>\n",
       "      <th>2</th>\n",
       "      <td>250000</td>\n",
       "      <td>784</td>\n",
       "      <td>1172949</td>\n",
       "      <td>3347</td>\n",
       "      <td>2</td>\n",
       "      <td>1</td>\n",
       "      <td>25</td>\n",
       "      <td>0</td>\n",
       "      <td>0</td>\n",
       "      <td>0</td>\n",
       "      <td>...</td>\n",
       "      <td>1103</td>\n",
       "      <td>0</td>\n",
       "      <td>0</td>\n",
       "      <td>3</td>\n",
       "      <td>11</td>\n",
       "      <td>3242</td>\n",
       "      <td>375</td>\n",
       "      <td>80</td>\n",
       "      <td>14</td>\n",
       "      <td>2</td>\n",
       "    </tr>\n",
       "    <tr>\n",
       "      <th>3</th>\n",
       "      <td>250000</td>\n",
       "      <td>1456</td>\n",
       "      <td>1318946</td>\n",
       "      <td>4292</td>\n",
       "      <td>2</td>\n",
       "      <td>1</td>\n",
       "      <td>25</td>\n",
       "      <td>0</td>\n",
       "      <td>0</td>\n",
       "      <td>0</td>\n",
       "      <td>...</td>\n",
       "      <td>1901</td>\n",
       "      <td>1</td>\n",
       "      <td>19</td>\n",
       "      <td>1</td>\n",
       "      <td>19</td>\n",
       "      <td>3379</td>\n",
       "      <td>411</td>\n",
       "      <td>3</td>\n",
       "      <td>465</td>\n",
       "      <td>1</td>\n",
       "    </tr>\n",
       "    <tr>\n",
       "      <th>4</th>\n",
       "      <td>250000</td>\n",
       "      <td>5747</td>\n",
       "      <td>1367085</td>\n",
       "      <td>3347</td>\n",
       "      <td>1</td>\n",
       "      <td>3</td>\n",
       "      <td>25</td>\n",
       "      <td>0</td>\n",
       "      <td>0</td>\n",
       "      <td>0</td>\n",
       "      <td>...</td>\n",
       "      <td>609</td>\n",
       "      <td>9</td>\n",
       "      <td>6</td>\n",
       "      <td>9</td>\n",
       "      <td>6</td>\n",
       "      <td>1896</td>\n",
       "      <td>105</td>\n",
       "      <td>80</td>\n",
       "      <td>14</td>\n",
       "      <td>2</td>\n",
       "    </tr>\n",
       "  </tbody>\n",
       "</table>\n",
       "<p>5 rows × 28 columns</p>\n",
       "</div>"
      ],
      "text/plain": [
       "   clickTime  creativeID   userID  positionID  connectionType  \\\n",
       "0     250000        5616  2378636        4292               1   \n",
       "1     250000        3395  1361396        7219               1   \n",
       "2     250000         784  1172949        3347               2   \n",
       "3     250000        1456  1318946        4292               2   \n",
       "4     250000        5747  1367085        3347               1   \n",
       "\n",
       "   telecomsOperator  clickTime_day  clickTime_hour  clickTime_minute  \\\n",
       "0                 1             25               0                 0   \n",
       "1                 1             25               0                 0   \n",
       "2                 1             25               0                 0   \n",
       "3                 1             25               0                 0   \n",
       "4                 3             25               0                 0   \n",
       "\n",
       "   sitesetID     ...       residence  hometown_city  hometown_province  \\\n",
       "0          0     ...             801             10                  2   \n",
       "1          0     ...            1301              1                 13   \n",
       "2          0     ...            1103              0                  0   \n",
       "3          0     ...            1901              1                 19   \n",
       "4          0     ...             609              9                  6   \n",
       "\n",
       "   residence_city  residence_province  adID  camgaignID  advertiserID  appID  \\\n",
       "0               1                   8   333         139            10    434   \n",
       "1               1                  13  2514         139            10    434   \n",
       "2               3                  11  3242         375            80     14   \n",
       "3               1                  19  3379         411             3    465   \n",
       "4               9                   6  1896         105            80     14   \n",
       "\n",
       "   appPlatform  \n",
       "0            1  \n",
       "1            1  \n",
       "2            2  \n",
       "3            1  \n",
       "4            2  \n",
       "\n",
       "[5 rows x 28 columns]"
      ]
     },
     "execution_count": 86,
     "metadata": {},
     "output_type": "execute_result"
    }
   ],
   "source": [
    "train.head()"
   ]
  },
  {
   "cell_type": "code",
   "execution_count": 87,
   "metadata": {
    "collapsed": true
   },
   "outputs": [],
   "source": [
    "#保险起见，爱你，就储存吧\n",
    "train.to_csv('./pre/train28.csv',index=None)"
   ]
  },
  {
   "cell_type": "code",
   "execution_count": 88,
   "metadata": {
    "collapsed": false
   },
   "outputs": [
    {
     "data": {
      "text/html": [
       "<div>\n",
       "<table border=\"1\" class=\"dataframe\">\n",
       "  <thead>\n",
       "    <tr style=\"text-align: right;\">\n",
       "      <th></th>\n",
       "      <th>clickTime</th>\n",
       "      <th>creativeID</th>\n",
       "      <th>userID</th>\n",
       "      <th>positionID</th>\n",
       "      <th>connectionType</th>\n",
       "      <th>telecomsOperator</th>\n",
       "      <th>clickTime_day</th>\n",
       "      <th>clickTime_hour</th>\n",
       "      <th>clickTime_minute</th>\n",
       "      <th>sitesetID</th>\n",
       "      <th>...</th>\n",
       "      <th>residence</th>\n",
       "      <th>hometown_city</th>\n",
       "      <th>hometown_province</th>\n",
       "      <th>residence_city</th>\n",
       "      <th>residence_province</th>\n",
       "      <th>adID</th>\n",
       "      <th>camgaignID</th>\n",
       "      <th>advertiserID</th>\n",
       "      <th>appID</th>\n",
       "      <th>appPlatform</th>\n",
       "    </tr>\n",
       "  </thead>\n",
       "  <tbody>\n",
       "    <tr>\n",
       "      <th>0</th>\n",
       "      <td>310000</td>\n",
       "      <td>3745</td>\n",
       "      <td>1164848</td>\n",
       "      <td>3451</td>\n",
       "      <td>1</td>\n",
       "      <td>3</td>\n",
       "      <td>31</td>\n",
       "      <td>0</td>\n",
       "      <td>0</td>\n",
       "      <td>0</td>\n",
       "      <td>...</td>\n",
       "      <td>605</td>\n",
       "      <td>5</td>\n",
       "      <td>6</td>\n",
       "      <td>5</td>\n",
       "      <td>6</td>\n",
       "      <td>1166</td>\n",
       "      <td>430</td>\n",
       "      <td>80</td>\n",
       "      <td>14</td>\n",
       "      <td>2</td>\n",
       "    </tr>\n",
       "    <tr>\n",
       "      <th>1</th>\n",
       "      <td>310000</td>\n",
       "      <td>2284</td>\n",
       "      <td>2127247</td>\n",
       "      <td>1613</td>\n",
       "      <td>1</td>\n",
       "      <td>3</td>\n",
       "      <td>31</td>\n",
       "      <td>0</td>\n",
       "      <td>0</td>\n",
       "      <td>0</td>\n",
       "      <td>...</td>\n",
       "      <td>2301</td>\n",
       "      <td>5</td>\n",
       "      <td>22</td>\n",
       "      <td>1</td>\n",
       "      <td>23</td>\n",
       "      <td>1388</td>\n",
       "      <td>325</td>\n",
       "      <td>80</td>\n",
       "      <td>14</td>\n",
       "      <td>2</td>\n",
       "    </tr>\n",
       "    <tr>\n",
       "      <th>2</th>\n",
       "      <td>310000</td>\n",
       "      <td>1456</td>\n",
       "      <td>2769125</td>\n",
       "      <td>5510</td>\n",
       "      <td>2</td>\n",
       "      <td>1</td>\n",
       "      <td>31</td>\n",
       "      <td>0</td>\n",
       "      <td>0</td>\n",
       "      <td>0</td>\n",
       "      <td>...</td>\n",
       "      <td>1502</td>\n",
       "      <td>0</td>\n",
       "      <td>0</td>\n",
       "      <td>2</td>\n",
       "      <td>15</td>\n",
       "      <td>3379</td>\n",
       "      <td>411</td>\n",
       "      <td>3</td>\n",
       "      <td>465</td>\n",
       "      <td>1</td>\n",
       "    </tr>\n",
       "    <tr>\n",
       "      <th>3</th>\n",
       "      <td>310000</td>\n",
       "      <td>4565</td>\n",
       "      <td>9762</td>\n",
       "      <td>4113</td>\n",
       "      <td>2</td>\n",
       "      <td>3</td>\n",
       "      <td>31</td>\n",
       "      <td>0</td>\n",
       "      <td>0</td>\n",
       "      <td>0</td>\n",
       "      <td>...</td>\n",
       "      <td>2407</td>\n",
       "      <td>5</td>\n",
       "      <td>24</td>\n",
       "      <td>7</td>\n",
       "      <td>24</td>\n",
       "      <td>3593</td>\n",
       "      <td>632</td>\n",
       "      <td>3</td>\n",
       "      <td>465</td>\n",
       "      <td>1</td>\n",
       "    </tr>\n",
       "    <tr>\n",
       "      <th>4</th>\n",
       "      <td>310000</td>\n",
       "      <td>49</td>\n",
       "      <td>2513636</td>\n",
       "      <td>3615</td>\n",
       "      <td>1</td>\n",
       "      <td>3</td>\n",
       "      <td>31</td>\n",
       "      <td>0</td>\n",
       "      <td>0</td>\n",
       "      <td>0</td>\n",
       "      <td>...</td>\n",
       "      <td>307</td>\n",
       "      <td>7</td>\n",
       "      <td>3</td>\n",
       "      <td>7</td>\n",
       "      <td>3</td>\n",
       "      <td>1469</td>\n",
       "      <td>535</td>\n",
       "      <td>80</td>\n",
       "      <td>14</td>\n",
       "      <td>2</td>\n",
       "    </tr>\n",
       "  </tbody>\n",
       "</table>\n",
       "<p>5 rows × 28 columns</p>\n",
       "</div>"
      ],
      "text/plain": [
       "   clickTime  creativeID   userID  positionID  connectionType  \\\n",
       "0     310000        3745  1164848        3451               1   \n",
       "1     310000        2284  2127247        1613               1   \n",
       "2     310000        1456  2769125        5510               2   \n",
       "3     310000        4565     9762        4113               2   \n",
       "4     310000          49  2513636        3615               1   \n",
       "\n",
       "   telecomsOperator  clickTime_day  clickTime_hour  clickTime_minute  \\\n",
       "0                 3             31               0                 0   \n",
       "1                 3             31               0                 0   \n",
       "2                 1             31               0                 0   \n",
       "3                 3             31               0                 0   \n",
       "4                 3             31               0                 0   \n",
       "\n",
       "   sitesetID     ...       residence  hometown_city  hometown_province  \\\n",
       "0          0     ...             605              5                  6   \n",
       "1          0     ...            2301              5                 22   \n",
       "2          0     ...            1502              0                  0   \n",
       "3          0     ...            2407              5                 24   \n",
       "4          0     ...             307              7                  3   \n",
       "\n",
       "   residence_city  residence_province  adID  camgaignID  advertiserID  appID  \\\n",
       "0               5                   6  1166         430            80     14   \n",
       "1               1                  23  1388         325            80     14   \n",
       "2               2                  15  3379         411             3    465   \n",
       "3               7                  24  3593         632             3    465   \n",
       "4               7                   3  1469         535            80     14   \n",
       "\n",
       "   appPlatform  \n",
       "0            2  \n",
       "1            2  \n",
       "2            1  \n",
       "3            1  \n",
       "4            2  \n",
       "\n",
       "[5 rows x 28 columns]"
      ]
     },
     "execution_count": 88,
     "metadata": {},
     "output_type": "execute_result"
    }
   ],
   "source": [
    "test.head()"
   ]
  },
  {
   "cell_type": "code",
   "execution_count": 89,
   "metadata": {
    "collapsed": true
   },
   "outputs": [],
   "source": [
    "#保险起见，爱你，就储存吧\n",
    "test.to_csv('./pre/test26.csv',index=None)"
   ]
  },
  {
   "cell_type": "code",
   "execution_count": 90,
   "metadata": {
    "collapsed": false
   },
   "outputs": [
    {
     "data": {
      "text/plain": [
       "clickTime               int64\n",
       "creativeID              int64\n",
       "userID                  int64\n",
       "positionID              int64\n",
       "connectionType          int64\n",
       "telecomsOperator        int64\n",
       "clickTime_day           int64\n",
       "clickTime_hour          int64\n",
       "clickTime_minute        int64\n",
       "sitesetID               int64\n",
       "positionType            int64\n",
       "user_appID_count      float64\n",
       "age                     int64\n",
       "gender                  int64\n",
       "education               int64\n",
       "marriageStatus          int64\n",
       "haveBaby                int64\n",
       "hometown                int64\n",
       "residence               int64\n",
       "hometown_city           int64\n",
       "hometown_province       int32\n",
       "residence_city          int64\n",
       "residence_province      int32\n",
       "adID                    int64\n",
       "camgaignID              int64\n",
       "advertiserID            int64\n",
       "appID                   int64\n",
       "appPlatform             int64\n",
       "dtype: object"
      ]
     },
     "execution_count": 90,
     "metadata": {},
     "output_type": "execute_result"
    }
   ],
   "source": [
    "train.dtypes"
   ]
  },
  {
   "cell_type": "code",
   "execution_count": 91,
   "metadata": {
    "collapsed": false
   },
   "outputs": [
    {
     "data": {
      "text/plain": [
       "clickTime               int64\n",
       "creativeID              int64\n",
       "userID                  int64\n",
       "positionID              int64\n",
       "connectionType          int64\n",
       "telecomsOperator        int64\n",
       "clickTime_day           int64\n",
       "clickTime_hour          int64\n",
       "clickTime_minute        int64\n",
       "sitesetID               int64\n",
       "positionType            int64\n",
       "user_appID_count      float64\n",
       "age                     int64\n",
       "gender                  int64\n",
       "education               int64\n",
       "marriageStatus          int64\n",
       "haveBaby                int64\n",
       "hometown                int64\n",
       "residence               int64\n",
       "hometown_city           int64\n",
       "hometown_province       int32\n",
       "residence_city          int64\n",
       "residence_province      int32\n",
       "adID                    int64\n",
       "camgaignID              int64\n",
       "advertiserID            int64\n",
       "appID                   int64\n",
       "appPlatform             int64\n",
       "dtype: object"
      ]
     },
     "execution_count": 91,
     "metadata": {},
     "output_type": "execute_result"
    }
   ],
   "source": [
    "train = train.fillna(0)\n",
    "test = test.fillna(0)\n",
    "train.dtypes"
   ]
  },
  {
   "cell_type": "code",
   "execution_count": 92,
   "metadata": {
    "collapsed": false
   },
   "outputs": [],
   "source": [
    "train_user_appID_count =  train[['user_appID_count']]\n",
    "test_user_appID_count =  test[['user_appID_count']]\n",
    "del train['user_appID_count'],test['user_appID_count']"
   ]
  },
  {
   "cell_type": "code",
   "execution_count": 93,
   "metadata": {
    "collapsed": false
   },
   "outputs": [],
   "source": [
    "oneEnc = OneHotEncoder()\n",
    "data_one = pd.concat([train,test])\n",
    "data_one = oneEnc.fit_transform(data_one)\n",
    "train_one = data_one[:train.shape[0]]\n",
    "test_one = data_one[train.shape[0]:]"
   ]
  },
  {
   "cell_type": "code",
   "execution_count": 94,
   "metadata": {
    "collapsed": false
   },
   "outputs": [
    {
     "name": "stdout",
     "output_type": "stream",
     "text": [
      "(861372, 987038)\n",
      "(861372, 111975)\n",
      "(861372, 1)\n",
      "(861372, 27)\n"
     ]
    }
   ],
   "source": [
    "print train_one.shape\n",
    "print user_installedapps_tfv[:train.shape[0]].shape\n",
    "print train_user_appID_count.shape\n",
    "print train.shape"
   ]
  },
  {
   "cell_type": "code",
   "execution_count": 95,
   "metadata": {
    "collapsed": false
   },
   "outputs": [
    {
     "data": {
      "text/plain": [
       "array([[ 64.],\n",
       "       [  0.],\n",
       "       [ 67.],\n",
       "       ..., \n",
       "       [ 64.],\n",
       "       [  0.],\n",
       "       [ 92.]])"
      ]
     },
     "execution_count": 95,
     "metadata": {},
     "output_type": "execute_result"
    }
   ],
   "source": [
    "train_user_appID_count.values"
   ]
  },
  {
   "cell_type": "code",
   "execution_count": 100,
   "metadata": {
    "collapsed": false
   },
   "outputs": [
    {
     "name": "stdout",
     "output_type": "stream",
     "text": [
      "\n"
     ]
    }
   ],
   "source": [
    "train = hstack([train_one,user_installedapps_tfv[:train.shape[0]]])\n",
    "test = hstack([test_one,user_installedapps_tfv[train.shape[0]:]])"
   ]
  },
  {
   "cell_type": "code",
   "execution_count": null,
   "metadata": {
    "collapsed": false
   },
   "outputs": [],
   "source": [
    "# #输出训练集和测试集\n",
    "# with open('train.pkl','w') as f:\n",
    "#     pickle.dump(train,f)\n",
    "# with open('test.pkl','w') as f:\n",
    "#     pickle.dump(test,f)\n",
    "# #读取训练集和测试集\n",
    "# with open('train.pkl','r') as f:\n",
    "#     train = pickle.load(f)\n",
    "# with open('test.pkl','r') as f:\n",
    "#     test = pickle.load(f)"
   ]
  },
  {
   "cell_type": "code",
   "execution_count": 97,
   "metadata": {
    "collapsed": false,
    "scrolled": true
   },
   "outputs": [
    {
     "name": "stdout",
     "output_type": "stream",
     "text": [
      "LogisticRegression Logistic回归\n",
      "训练得分 0.0797782026628\n"
     ]
    }
   ],
   "source": [
    "from sklearn.linear_model import LogisticRegression\n",
    "print 'LogisticRegression Logistic回归'\n",
    "lr = LogisticRegression(n_jobs=-1,random_state=2017)\n",
    "lr.fit(train,train_label)\n",
    "pred = lr.predict_proba(train)[:,1]\n",
    "print '训练得分',logloss(train_label,pred)\n",
    "# pred = lr.predict_proba(test)[:,1]\n",
    "# print '验证得分',logloss(test_label,pred)"
   ]
  },
  {
   "cell_type": "code",
   "execution_count": 101,
   "metadata": {
    "collapsed": false
   },
   "outputs": [
    {
     "name": "stdout",
     "output_type": "stream",
     "text": [
      "验证得分"
     ]
    },
    {
     "ename": "ValueError",
     "evalue": "operands could not be broadcast together with shapes (338489,) (861372,) ",
     "output_type": "error",
     "traceback": [
      "\u001b[0;31m---------------------------------------------------------------------------\u001b[0m",
      "\u001b[0;31mValueError\u001b[0m                                Traceback (most recent call last)",
      "\u001b[0;32m<ipython-input-101-a15274632c27>\u001b[0m in \u001b[0;36m<module>\u001b[0;34m()\u001b[0m\n\u001b[1;32m      1\u001b[0m \u001b[0mresults\u001b[0m \u001b[1;33m=\u001b[0m \u001b[0mlr\u001b[0m\u001b[1;33m.\u001b[0m\u001b[0mpredict_proba\u001b[0m\u001b[1;33m(\u001b[0m\u001b[0mtest\u001b[0m\u001b[1;33m)\u001b[0m\u001b[1;33m[\u001b[0m\u001b[1;33m:\u001b[0m\u001b[1;33m,\u001b[0m\u001b[1;36m1\u001b[0m\u001b[1;33m]\u001b[0m\u001b[1;33m\u001b[0m\u001b[0m\n\u001b[0;32m----> 2\u001b[0;31m \u001b[1;32mprint\u001b[0m \u001b[1;34m'验证得分'\u001b[0m\u001b[1;33m,\u001b[0m\u001b[0mlogloss\u001b[0m\u001b[1;33m(\u001b[0m\u001b[0mtest_label\u001b[0m\u001b[1;33m,\u001b[0m\u001b[0mpred\u001b[0m\u001b[1;33m)\u001b[0m\u001b[1;33m\u001b[0m\u001b[0m\n\u001b[0m",
      "\u001b[0;32m<ipython-input-2-8353cd4f7e12>\u001b[0m in \u001b[0;36mlogloss\u001b[0;34m(act, pred)\u001b[0m\n\u001b[1;32m      5\u001b[0m   \u001b[0mpred\u001b[0m \u001b[1;33m=\u001b[0m \u001b[0msp\u001b[0m\u001b[1;33m.\u001b[0m\u001b[0mmaximum\u001b[0m\u001b[1;33m(\u001b[0m\u001b[0mepsilon\u001b[0m\u001b[1;33m,\u001b[0m \u001b[0mpred\u001b[0m\u001b[1;33m)\u001b[0m\u001b[1;33m\u001b[0m\u001b[0m\n\u001b[1;32m      6\u001b[0m   \u001b[0mpred\u001b[0m \u001b[1;33m=\u001b[0m \u001b[0msp\u001b[0m\u001b[1;33m.\u001b[0m\u001b[0mminimum\u001b[0m\u001b[1;33m(\u001b[0m\u001b[1;36m1\u001b[0m\u001b[1;33m-\u001b[0m\u001b[0mepsilon\u001b[0m\u001b[1;33m,\u001b[0m \u001b[0mpred\u001b[0m\u001b[1;33m)\u001b[0m\u001b[1;33m\u001b[0m\u001b[0m\n\u001b[0;32m----> 7\u001b[0;31m   \u001b[0mll\u001b[0m \u001b[1;33m=\u001b[0m \u001b[1;33m-\u001b[0m\u001b[0msp\u001b[0m\u001b[1;33m.\u001b[0m\u001b[0mmean\u001b[0m\u001b[1;33m(\u001b[0m\u001b[0mact\u001b[0m\u001b[1;33m*\u001b[0m\u001b[0msp\u001b[0m\u001b[1;33m.\u001b[0m\u001b[0mlog\u001b[0m\u001b[1;33m(\u001b[0m\u001b[0mpred\u001b[0m\u001b[1;33m)\u001b[0m \u001b[1;33m+\u001b[0m \u001b[0msp\u001b[0m\u001b[1;33m.\u001b[0m\u001b[0msubtract\u001b[0m\u001b[1;33m(\u001b[0m\u001b[1;36m1\u001b[0m\u001b[1;33m,\u001b[0m\u001b[0mact\u001b[0m\u001b[1;33m)\u001b[0m\u001b[1;33m*\u001b[0m\u001b[0msp\u001b[0m\u001b[1;33m.\u001b[0m\u001b[0mlog\u001b[0m\u001b[1;33m(\u001b[0m\u001b[1;36m1\u001b[0m\u001b[1;33m-\u001b[0m\u001b[0mpred\u001b[0m\u001b[1;33m)\u001b[0m\u001b[1;33m)\u001b[0m\u001b[1;33m\u001b[0m\u001b[0m\n\u001b[0m\u001b[1;32m      8\u001b[0m   \u001b[1;32mreturn\u001b[0m \u001b[0mll\u001b[0m\u001b[1;33m\u001b[0m\u001b[0m\n",
      "\u001b[0;32mC:\\ProgramData\\Anaconda2\\lib\\site-packages\\pandas\\core\\ops.py\u001b[0m in \u001b[0;36mwrapper\u001b[0;34m(left, right, name, na_op)\u001b[0m\n\u001b[1;32m    713\u001b[0m                 \u001b[0mlvalues\u001b[0m \u001b[1;33m=\u001b[0m \u001b[0mlvalues\u001b[0m\u001b[1;33m.\u001b[0m\u001b[0mvalues\u001b[0m\u001b[1;33m\u001b[0m\u001b[0m\n\u001b[1;32m    714\u001b[0m \u001b[1;33m\u001b[0m\u001b[0m\n\u001b[0;32m--> 715\u001b[0;31m         \u001b[0mresult\u001b[0m \u001b[1;33m=\u001b[0m \u001b[0mwrap_results\u001b[0m\u001b[1;33m(\u001b[0m\u001b[0msafe_na_op\u001b[0m\u001b[1;33m(\u001b[0m\u001b[0mlvalues\u001b[0m\u001b[1;33m,\u001b[0m \u001b[0mrvalues\u001b[0m\u001b[1;33m)\u001b[0m\u001b[1;33m)\u001b[0m\u001b[1;33m\u001b[0m\u001b[0m\n\u001b[0m\u001b[1;32m    716\u001b[0m         return construct_result(\n\u001b[1;32m    717\u001b[0m             \u001b[0mleft\u001b[0m\u001b[1;33m,\u001b[0m\u001b[1;33m\u001b[0m\u001b[0m\n",
      "\u001b[0;32mC:\\ProgramData\\Anaconda2\\lib\\site-packages\\pandas\\core\\ops.py\u001b[0m in \u001b[0;36msafe_na_op\u001b[0;34m(lvalues, rvalues)\u001b[0m\n\u001b[1;32m    674\u001b[0m         \u001b[1;32mtry\u001b[0m\u001b[1;33m:\u001b[0m\u001b[1;33m\u001b[0m\u001b[0m\n\u001b[1;32m    675\u001b[0m             \u001b[1;32mwith\u001b[0m \u001b[0mnp\u001b[0m\u001b[1;33m.\u001b[0m\u001b[0merrstate\u001b[0m\u001b[1;33m(\u001b[0m\u001b[0mall\u001b[0m\u001b[1;33m=\u001b[0m\u001b[1;34m'ignore'\u001b[0m\u001b[1;33m)\u001b[0m\u001b[1;33m:\u001b[0m\u001b[1;33m\u001b[0m\u001b[0m\n\u001b[0;32m--> 676\u001b[0;31m                 \u001b[1;32mreturn\u001b[0m \u001b[0mna_op\u001b[0m\u001b[1;33m(\u001b[0m\u001b[0mlvalues\u001b[0m\u001b[1;33m,\u001b[0m \u001b[0mrvalues\u001b[0m\u001b[1;33m)\u001b[0m\u001b[1;33m\u001b[0m\u001b[0m\n\u001b[0m\u001b[1;32m    677\u001b[0m         \u001b[1;32mexcept\u001b[0m \u001b[0mException\u001b[0m\u001b[1;33m:\u001b[0m\u001b[1;33m\u001b[0m\u001b[0m\n\u001b[1;32m    678\u001b[0m             \u001b[1;32mif\u001b[0m \u001b[0misinstance\u001b[0m\u001b[1;33m(\u001b[0m\u001b[0mrvalues\u001b[0m\u001b[1;33m,\u001b[0m \u001b[0mABCSeries\u001b[0m\u001b[1;33m)\u001b[0m\u001b[1;33m:\u001b[0m\u001b[1;33m\u001b[0m\u001b[0m\n",
      "\u001b[0;32mC:\\ProgramData\\Anaconda2\\lib\\site-packages\\pandas\\core\\ops.py\u001b[0m in \u001b[0;36mna_op\u001b[0;34m(x, y)\u001b[0m\n\u001b[1;32m    650\u001b[0m         \u001b[1;32mtry\u001b[0m\u001b[1;33m:\u001b[0m\u001b[1;33m\u001b[0m\u001b[0m\n\u001b[1;32m    651\u001b[0m             result = expressions.evaluate(op, str_rep, x, y,\n\u001b[0;32m--> 652\u001b[0;31m                                           raise_on_error=True, **eval_kwargs)\n\u001b[0m\u001b[1;32m    653\u001b[0m         \u001b[1;32mexcept\u001b[0m \u001b[0mTypeError\u001b[0m\u001b[1;33m:\u001b[0m\u001b[1;33m\u001b[0m\u001b[0m\n\u001b[1;32m    654\u001b[0m             \u001b[1;32mif\u001b[0m \u001b[0misinstance\u001b[0m\u001b[1;33m(\u001b[0m\u001b[0my\u001b[0m\u001b[1;33m,\u001b[0m \u001b[1;33m(\u001b[0m\u001b[0mnp\u001b[0m\u001b[1;33m.\u001b[0m\u001b[0mndarray\u001b[0m\u001b[1;33m,\u001b[0m \u001b[0mABCSeries\u001b[0m\u001b[1;33m,\u001b[0m \u001b[0mpd\u001b[0m\u001b[1;33m.\u001b[0m\u001b[0mIndex\u001b[0m\u001b[1;33m)\u001b[0m\u001b[1;33m)\u001b[0m\u001b[1;33m:\u001b[0m\u001b[1;33m\u001b[0m\u001b[0m\n",
      "\u001b[0;32mC:\\ProgramData\\Anaconda2\\lib\\site-packages\\pandas\\computation\\expressions.py\u001b[0m in \u001b[0;36mevaluate\u001b[0;34m(op, op_str, a, b, raise_on_error, use_numexpr, **eval_kwargs)\u001b[0m\n\u001b[1;32m    208\u001b[0m     \u001b[1;32mif\u001b[0m \u001b[0muse_numexpr\u001b[0m\u001b[1;33m:\u001b[0m\u001b[1;33m\u001b[0m\u001b[0m\n\u001b[1;32m    209\u001b[0m         return _evaluate(op, op_str, a, b, raise_on_error=raise_on_error,\n\u001b[0;32m--> 210\u001b[0;31m                          **eval_kwargs)\n\u001b[0m\u001b[1;32m    211\u001b[0m     \u001b[1;32mreturn\u001b[0m \u001b[0m_evaluate_standard\u001b[0m\u001b[1;33m(\u001b[0m\u001b[0mop\u001b[0m\u001b[1;33m,\u001b[0m \u001b[0mop_str\u001b[0m\u001b[1;33m,\u001b[0m \u001b[0ma\u001b[0m\u001b[1;33m,\u001b[0m \u001b[0mb\u001b[0m\u001b[1;33m,\u001b[0m \u001b[0mraise_on_error\u001b[0m\u001b[1;33m=\u001b[0m\u001b[0mraise_on_error\u001b[0m\u001b[1;33m)\u001b[0m\u001b[1;33m\u001b[0m\u001b[0m\n\u001b[1;32m    212\u001b[0m \u001b[1;33m\u001b[0m\u001b[0m\n",
      "\u001b[0;32mC:\\ProgramData\\Anaconda2\\lib\\site-packages\\pandas\\computation\\expressions.py\u001b[0m in \u001b[0;36m_evaluate_numexpr\u001b[0;34m(op, op_str, a, b, raise_on_error, truediv, reversed, **eval_kwargs)\u001b[0m\n\u001b[1;32m    119\u001b[0m \u001b[1;33m\u001b[0m\u001b[0m\n\u001b[1;32m    120\u001b[0m     \u001b[1;32mif\u001b[0m \u001b[0mresult\u001b[0m \u001b[1;32mis\u001b[0m \u001b[0mNone\u001b[0m\u001b[1;33m:\u001b[0m\u001b[1;33m\u001b[0m\u001b[0m\n\u001b[0;32m--> 121\u001b[0;31m         \u001b[0mresult\u001b[0m \u001b[1;33m=\u001b[0m \u001b[0m_evaluate_standard\u001b[0m\u001b[1;33m(\u001b[0m\u001b[0mop\u001b[0m\u001b[1;33m,\u001b[0m \u001b[0mop_str\u001b[0m\u001b[1;33m,\u001b[0m \u001b[0ma\u001b[0m\u001b[1;33m,\u001b[0m \u001b[0mb\u001b[0m\u001b[1;33m,\u001b[0m \u001b[0mraise_on_error\u001b[0m\u001b[1;33m)\u001b[0m\u001b[1;33m\u001b[0m\u001b[0m\n\u001b[0m\u001b[1;32m    122\u001b[0m \u001b[1;33m\u001b[0m\u001b[0m\n\u001b[1;32m    123\u001b[0m     \u001b[1;32mreturn\u001b[0m \u001b[0mresult\u001b[0m\u001b[1;33m\u001b[0m\u001b[0m\n",
      "\u001b[0;32mC:\\ProgramData\\Anaconda2\\lib\\site-packages\\pandas\\computation\\expressions.py\u001b[0m in \u001b[0;36m_evaluate_standard\u001b[0;34m(op, op_str, a, b, raise_on_error, **eval_kwargs)\u001b[0m\n\u001b[1;32m     61\u001b[0m         \u001b[0m_store_test_result\u001b[0m\u001b[1;33m(\u001b[0m\u001b[0mFalse\u001b[0m\u001b[1;33m)\u001b[0m\u001b[1;33m\u001b[0m\u001b[0m\n\u001b[1;32m     62\u001b[0m     \u001b[1;32mwith\u001b[0m \u001b[0mnp\u001b[0m\u001b[1;33m.\u001b[0m\u001b[0merrstate\u001b[0m\u001b[1;33m(\u001b[0m\u001b[0mall\u001b[0m\u001b[1;33m=\u001b[0m\u001b[1;34m'ignore'\u001b[0m\u001b[1;33m)\u001b[0m\u001b[1;33m:\u001b[0m\u001b[1;33m\u001b[0m\u001b[0m\n\u001b[0;32m---> 63\u001b[0;31m         \u001b[1;32mreturn\u001b[0m \u001b[0mop\u001b[0m\u001b[1;33m(\u001b[0m\u001b[0ma\u001b[0m\u001b[1;33m,\u001b[0m \u001b[0mb\u001b[0m\u001b[1;33m)\u001b[0m\u001b[1;33m\u001b[0m\u001b[0m\n\u001b[0m\u001b[1;32m     64\u001b[0m \u001b[1;33m\u001b[0m\u001b[0m\n\u001b[1;32m     65\u001b[0m \u001b[1;33m\u001b[0m\u001b[0m\n",
      "\u001b[0;31mValueError\u001b[0m: operands could not be broadcast together with shapes (338489,) (861372,) "
     ]
    }
   ],
   "source": [
    "# 取消了test线下测试\n",
    "results = lr.predict_proba(test)[:,1]\n",
    "# print '验证得分',logloss(test_label,pred)"
   ]
  },
  {
   "cell_type": "code",
   "execution_count": 103,
   "metadata": {
    "collapsed": false
   },
   "outputs": [],
   "source": [
    "#输出结果\n",
    "# a = pd.DataFrame({'instanceID':pd.read_csv('./pre/test.csv')['instanceID'],'prob':pred})\n",
    "#输出\n",
    "test1 = pd.read_csv('./pre/test.csv')\n",
    "test1['prob'] = results\n",
    "test1= test1[['instanceID','prob']]\n",
    "test1.to_csv('./pre/submission.csv',index=None)\n",
    "submission =  pd.read_csv('./pre/submission.csv') "
   ]
  },
  {
   "cell_type": "code",
   "execution_count": null,
   "metadata": {
    "collapsed": true
   },
   "outputs": [],
   "source": [
    "#import os\n",
    "#os.system('shutdown -s')"
   ]
  },
  {
   "cell_type": "code",
   "execution_count": 104,
   "metadata": {
    "collapsed": false
   },
   "outputs": [
    {
     "data": {
      "text/html": [
       "<div>\n",
       "<table border=\"1\" class=\"dataframe\">\n",
       "  <thead>\n",
       "    <tr style=\"text-align: right;\">\n",
       "      <th></th>\n",
       "      <th>instanceID</th>\n",
       "      <th>prob</th>\n",
       "    </tr>\n",
       "  </thead>\n",
       "  <tbody>\n",
       "    <tr>\n",
       "      <th>0</th>\n",
       "      <td>1</td>\n",
       "      <td>0.001197</td>\n",
       "    </tr>\n",
       "    <tr>\n",
       "      <th>1</th>\n",
       "      <td>2</td>\n",
       "      <td>0.006299</td>\n",
       "    </tr>\n",
       "    <tr>\n",
       "      <th>2</th>\n",
       "      <td>3</td>\n",
       "      <td>0.006338</td>\n",
       "    </tr>\n",
       "    <tr>\n",
       "      <th>3</th>\n",
       "      <td>4</td>\n",
       "      <td>0.013193</td>\n",
       "    </tr>\n",
       "    <tr>\n",
       "      <th>4</th>\n",
       "      <td>5</td>\n",
       "      <td>0.002560</td>\n",
       "    </tr>\n",
       "    <tr>\n",
       "      <th>5</th>\n",
       "      <td>6</td>\n",
       "      <td>0.011754</td>\n",
       "    </tr>\n",
       "    <tr>\n",
       "      <th>6</th>\n",
       "      <td>7</td>\n",
       "      <td>0.025130</td>\n",
       "    </tr>\n",
       "    <tr>\n",
       "      <th>7</th>\n",
       "      <td>8</td>\n",
       "      <td>0.012672</td>\n",
       "    </tr>\n",
       "    <tr>\n",
       "      <th>8</th>\n",
       "      <td>9</td>\n",
       "      <td>0.003862</td>\n",
       "    </tr>\n",
       "    <tr>\n",
       "      <th>9</th>\n",
       "      <td>10</td>\n",
       "      <td>0.010393</td>\n",
       "    </tr>\n",
       "    <tr>\n",
       "      <th>10</th>\n",
       "      <td>11</td>\n",
       "      <td>0.012863</td>\n",
       "    </tr>\n",
       "    <tr>\n",
       "      <th>11</th>\n",
       "      <td>12</td>\n",
       "      <td>0.008053</td>\n",
       "    </tr>\n",
       "    <tr>\n",
       "      <th>12</th>\n",
       "      <td>13</td>\n",
       "      <td>0.008431</td>\n",
       "    </tr>\n",
       "    <tr>\n",
       "      <th>13</th>\n",
       "      <td>14</td>\n",
       "      <td>0.013405</td>\n",
       "    </tr>\n",
       "    <tr>\n",
       "      <th>14</th>\n",
       "      <td>15</td>\n",
       "      <td>0.083680</td>\n",
       "    </tr>\n",
       "    <tr>\n",
       "      <th>15</th>\n",
       "      <td>16</td>\n",
       "      <td>0.001964</td>\n",
       "    </tr>\n",
       "    <tr>\n",
       "      <th>16</th>\n",
       "      <td>17</td>\n",
       "      <td>0.015090</td>\n",
       "    </tr>\n",
       "    <tr>\n",
       "      <th>17</th>\n",
       "      <td>18</td>\n",
       "      <td>0.006288</td>\n",
       "    </tr>\n",
       "    <tr>\n",
       "      <th>18</th>\n",
       "      <td>19</td>\n",
       "      <td>0.007944</td>\n",
       "    </tr>\n",
       "    <tr>\n",
       "      <th>19</th>\n",
       "      <td>20</td>\n",
       "      <td>0.013068</td>\n",
       "    </tr>\n",
       "    <tr>\n",
       "      <th>20</th>\n",
       "      <td>21</td>\n",
       "      <td>0.010861</td>\n",
       "    </tr>\n",
       "    <tr>\n",
       "      <th>21</th>\n",
       "      <td>22</td>\n",
       "      <td>0.015490</td>\n",
       "    </tr>\n",
       "    <tr>\n",
       "      <th>22</th>\n",
       "      <td>23</td>\n",
       "      <td>0.027935</td>\n",
       "    </tr>\n",
       "    <tr>\n",
       "      <th>23</th>\n",
       "      <td>24</td>\n",
       "      <td>0.005580</td>\n",
       "    </tr>\n",
       "    <tr>\n",
       "      <th>24</th>\n",
       "      <td>25</td>\n",
       "      <td>0.003735</td>\n",
       "    </tr>\n",
       "    <tr>\n",
       "      <th>25</th>\n",
       "      <td>26</td>\n",
       "      <td>0.008332</td>\n",
       "    </tr>\n",
       "    <tr>\n",
       "      <th>26</th>\n",
       "      <td>27</td>\n",
       "      <td>0.002650</td>\n",
       "    </tr>\n",
       "    <tr>\n",
       "      <th>27</th>\n",
       "      <td>28</td>\n",
       "      <td>0.002326</td>\n",
       "    </tr>\n",
       "    <tr>\n",
       "      <th>28</th>\n",
       "      <td>29</td>\n",
       "      <td>0.010389</td>\n",
       "    </tr>\n",
       "    <tr>\n",
       "      <th>29</th>\n",
       "      <td>30</td>\n",
       "      <td>0.010008</td>\n",
       "    </tr>\n",
       "    <tr>\n",
       "      <th>...</th>\n",
       "      <td>...</td>\n",
       "      <td>...</td>\n",
       "    </tr>\n",
       "    <tr>\n",
       "      <th>338459</th>\n",
       "      <td>338460</td>\n",
       "      <td>0.004043</td>\n",
       "    </tr>\n",
       "    <tr>\n",
       "      <th>338460</th>\n",
       "      <td>338461</td>\n",
       "      <td>0.013022</td>\n",
       "    </tr>\n",
       "    <tr>\n",
       "      <th>338461</th>\n",
       "      <td>338462</td>\n",
       "      <td>0.042818</td>\n",
       "    </tr>\n",
       "    <tr>\n",
       "      <th>338462</th>\n",
       "      <td>338463</td>\n",
       "      <td>0.011095</td>\n",
       "    </tr>\n",
       "    <tr>\n",
       "      <th>338463</th>\n",
       "      <td>338464</td>\n",
       "      <td>0.000447</td>\n",
       "    </tr>\n",
       "    <tr>\n",
       "      <th>338464</th>\n",
       "      <td>338465</td>\n",
       "      <td>0.018586</td>\n",
       "    </tr>\n",
       "    <tr>\n",
       "      <th>338465</th>\n",
       "      <td>338466</td>\n",
       "      <td>0.005391</td>\n",
       "    </tr>\n",
       "    <tr>\n",
       "      <th>338466</th>\n",
       "      <td>338467</td>\n",
       "      <td>0.006847</td>\n",
       "    </tr>\n",
       "    <tr>\n",
       "      <th>338467</th>\n",
       "      <td>338468</td>\n",
       "      <td>0.006535</td>\n",
       "    </tr>\n",
       "    <tr>\n",
       "      <th>338468</th>\n",
       "      <td>338469</td>\n",
       "      <td>0.057930</td>\n",
       "    </tr>\n",
       "    <tr>\n",
       "      <th>338469</th>\n",
       "      <td>338470</td>\n",
       "      <td>0.151786</td>\n",
       "    </tr>\n",
       "    <tr>\n",
       "      <th>338470</th>\n",
       "      <td>338471</td>\n",
       "      <td>0.012775</td>\n",
       "    </tr>\n",
       "    <tr>\n",
       "      <th>338471</th>\n",
       "      <td>338472</td>\n",
       "      <td>0.017977</td>\n",
       "    </tr>\n",
       "    <tr>\n",
       "      <th>338472</th>\n",
       "      <td>338473</td>\n",
       "      <td>0.034548</td>\n",
       "    </tr>\n",
       "    <tr>\n",
       "      <th>338473</th>\n",
       "      <td>338474</td>\n",
       "      <td>0.004017</td>\n",
       "    </tr>\n",
       "    <tr>\n",
       "      <th>338474</th>\n",
       "      <td>338475</td>\n",
       "      <td>0.149101</td>\n",
       "    </tr>\n",
       "    <tr>\n",
       "      <th>338475</th>\n",
       "      <td>338476</td>\n",
       "      <td>0.011452</td>\n",
       "    </tr>\n",
       "    <tr>\n",
       "      <th>338476</th>\n",
       "      <td>338477</td>\n",
       "      <td>0.018084</td>\n",
       "    </tr>\n",
       "    <tr>\n",
       "      <th>338477</th>\n",
       "      <td>338478</td>\n",
       "      <td>0.015030</td>\n",
       "    </tr>\n",
       "    <tr>\n",
       "      <th>338478</th>\n",
       "      <td>338479</td>\n",
       "      <td>0.204649</td>\n",
       "    </tr>\n",
       "    <tr>\n",
       "      <th>338479</th>\n",
       "      <td>338480</td>\n",
       "      <td>0.053037</td>\n",
       "    </tr>\n",
       "    <tr>\n",
       "      <th>338480</th>\n",
       "      <td>338481</td>\n",
       "      <td>0.012215</td>\n",
       "    </tr>\n",
       "    <tr>\n",
       "      <th>338481</th>\n",
       "      <td>338482</td>\n",
       "      <td>0.029022</td>\n",
       "    </tr>\n",
       "    <tr>\n",
       "      <th>338482</th>\n",
       "      <td>338483</td>\n",
       "      <td>0.036207</td>\n",
       "    </tr>\n",
       "    <tr>\n",
       "      <th>338483</th>\n",
       "      <td>338484</td>\n",
       "      <td>0.005004</td>\n",
       "    </tr>\n",
       "    <tr>\n",
       "      <th>338484</th>\n",
       "      <td>338485</td>\n",
       "      <td>0.018215</td>\n",
       "    </tr>\n",
       "    <tr>\n",
       "      <th>338485</th>\n",
       "      <td>338486</td>\n",
       "      <td>0.001162</td>\n",
       "    </tr>\n",
       "    <tr>\n",
       "      <th>338486</th>\n",
       "      <td>338487</td>\n",
       "      <td>0.021712</td>\n",
       "    </tr>\n",
       "    <tr>\n",
       "      <th>338487</th>\n",
       "      <td>338488</td>\n",
       "      <td>0.010121</td>\n",
       "    </tr>\n",
       "    <tr>\n",
       "      <th>338488</th>\n",
       "      <td>338489</td>\n",
       "      <td>0.003414</td>\n",
       "    </tr>\n",
       "  </tbody>\n",
       "</table>\n",
       "<p>338489 rows × 2 columns</p>\n",
       "</div>"
      ],
      "text/plain": [
       "        instanceID      prob\n",
       "0                1  0.001197\n",
       "1                2  0.006299\n",
       "2                3  0.006338\n",
       "3                4  0.013193\n",
       "4                5  0.002560\n",
       "5                6  0.011754\n",
       "6                7  0.025130\n",
       "7                8  0.012672\n",
       "8                9  0.003862\n",
       "9               10  0.010393\n",
       "10              11  0.012863\n",
       "11              12  0.008053\n",
       "12              13  0.008431\n",
       "13              14  0.013405\n",
       "14              15  0.083680\n",
       "15              16  0.001964\n",
       "16              17  0.015090\n",
       "17              18  0.006288\n",
       "18              19  0.007944\n",
       "19              20  0.013068\n",
       "20              21  0.010861\n",
       "21              22  0.015490\n",
       "22              23  0.027935\n",
       "23              24  0.005580\n",
       "24              25  0.003735\n",
       "25              26  0.008332\n",
       "26              27  0.002650\n",
       "27              28  0.002326\n",
       "28              29  0.010389\n",
       "29              30  0.010008\n",
       "...            ...       ...\n",
       "338459      338460  0.004043\n",
       "338460      338461  0.013022\n",
       "338461      338462  0.042818\n",
       "338462      338463  0.011095\n",
       "338463      338464  0.000447\n",
       "338464      338465  0.018586\n",
       "338465      338466  0.005391\n",
       "338466      338467  0.006847\n",
       "338467      338468  0.006535\n",
       "338468      338469  0.057930\n",
       "338469      338470  0.151786\n",
       "338470      338471  0.012775\n",
       "338471      338472  0.017977\n",
       "338472      338473  0.034548\n",
       "338473      338474  0.004017\n",
       "338474      338475  0.149101\n",
       "338475      338476  0.011452\n",
       "338476      338477  0.018084\n",
       "338477      338478  0.015030\n",
       "338478      338479  0.204649\n",
       "338479      338480  0.053037\n",
       "338480      338481  0.012215\n",
       "338481      338482  0.029022\n",
       "338482      338483  0.036207\n",
       "338483      338484  0.005004\n",
       "338484      338485  0.018215\n",
       "338485      338486  0.001162\n",
       "338486      338487  0.021712\n",
       "338487      338488  0.010121\n",
       "338488      338489  0.003414\n",
       "\n",
       "[338489 rows x 2 columns]"
      ]
     },
     "execution_count": 104,
     "metadata": {},
     "output_type": "execute_result"
    }
   ],
   "source": [
    "submission"
   ]
  }
 ],
 "metadata": {
  "kernelspec": {
   "display_name": "Python 2",
   "language": "python",
   "name": "python2"
  },
  "language_info": {
   "codemirror_mode": {
    "name": "ipython",
    "version": 2
   },
   "file_extension": ".py",
   "mimetype": "text/x-python",
   "name": "python",
   "nbconvert_exporter": "python",
   "pygments_lexer": "ipython2",
   "version": "2.7.13"
  }
 },
 "nbformat": 4,
 "nbformat_minor": 2
}
